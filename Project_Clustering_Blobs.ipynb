{
  "nbformat": 4,
  "nbformat_minor": 0,
  "metadata": {
    "kernelspec": {
      "display_name": "Python 3",
      "language": "python",
      "name": "python3"
    },
    "language_info": {
      "codemirror_mode": {
        "name": "ipython",
        "version": 3
      },
      "file_extension": ".py",
      "mimetype": "text/x-python",
      "name": "python",
      "nbconvert_exporter": "python",
      "pygments_lexer": "ipython3",
      "version": "3.8.3"
    },
    "colab": {
      "name": "Project Clustering Blobs.ipynb",
      "provenance": []
    }
  },
  "cells": [
    {
      "cell_type": "markdown",
      "metadata": {
        "id": "K6uszEF-tg6Q"
      },
      "source": [
        "# Unsupervised Machine Learning - KMeans\n",
        "\n",
        "Support vector machines (SVMs) are a set of supervised learning methods used for classification, regression and outliers detection. SVMs are one of the most robust prediction methods. \n",
        "\n",
        "Sources: \n",
        "[sklearn](https://scikit-learn.org/stable/modules/generated/sklearn.cluster.KMeans.html?highlight=kmeans#sklearn.cluster.KMeans), [wikipedia](https://en.wikipedia.org/wiki/K-means_clustering)"
      ]
    },
    {
      "cell_type": "markdown",
      "metadata": {
        "id": "fUB89AR6C5Br"
      },
      "source": [
        "![kmeans.png](https://www.mathworks.com/matlabcentral/mlc-downloads/downloads/submissions/52579/versions/9/screenshot.jpg)"
      ]
    },
    {
      "cell_type": "code",
      "metadata": {
        "id": "NGOCTCsNfEFO"
      },
      "source": [
        ""
      ],
      "execution_count": null,
      "outputs": []
    },
    {
      "cell_type": "code",
      "metadata": {
        "id": "uUg5EbK_fEFP"
      },
      "source": [
        "import pandas as pd\n",
        "import numpy as np\n",
        "import matplotlib.pyplot as plt\n",
        "from sklearn import datasets\n"
      ],
      "execution_count": 13,
      "outputs": []
    },
    {
      "cell_type": "code",
      "metadata": {
        "id": "YPdFIF-ZfEFQ"
      },
      "source": [
        "# Take make moons in built dataset\n",
        "\n",
        "data_ = datasets.make_moons(100)"
      ],
      "execution_count": 31,
      "outputs": []
    },
    {
      "cell_type": "code",
      "metadata": {
        "id": "bhV52SotfEFQ",
        "outputId": "3eb7161f-0b73-4486-d4e0-6328b84856b8",
        "colab": {
          "base_uri": "https://localhost:8080/"
        }
      },
      "source": [
        "# check the dataset\n",
        "\n",
        "data_"
      ],
      "execution_count": 15,
      "outputs": [
        {
          "output_type": "execute_result",
          "data": {
            "text/plain": [
              "(array([[-9.49055747e-01,  3.15108218e-01],\n",
              "        [ 8.20998618e-03,  3.72122838e-01],\n",
              "        [ 1.40478334e+00, -4.14412623e-01],\n",
              "        [-9.60230259e-02,  9.95379113e-01],\n",
              "        [ 1.28681296e-01,  9.28244800e-03],\n",
              "        [-2.22520934e-01,  9.74927912e-01],\n",
              "        [ 1.34536505e+00, -4.38468422e-01],\n",
              "        [-9.91790014e-01,  1.27877162e-01],\n",
              "        [ 0.00000000e+00,  5.00000000e-01],\n",
              "        [ 1.96729486e+00,  2.46345416e-01],\n",
              "        [ 9.60230259e-02,  9.95379113e-01],\n",
              "        [ 5.72116660e-01,  8.20172255e-01],\n",
              "        [-4.04783343e-01,  9.14412623e-01],\n",
              "        [ 7.15472413e-01, -4.58667853e-01],\n",
              "        [ 6.54634946e-01, -4.38468422e-01],\n",
              "        [-6.72300890e-01,  7.40277997e-01],\n",
              "        [-8.01413622e-01,  5.98110530e-01],\n",
              "        [ 4.27883340e-01, -3.20172255e-01],\n",
              "        [ 4.81607432e-01, -3.55142763e-01],\n",
              "        [ 1.71834935e+00, -1.95682551e-01],\n",
              "        [ 2.38554042e-01, -1.48228395e-01],\n",
              "        [-4.62538290e-01,  8.86599306e-01],\n",
              "        [ 1.46253829e+00, -3.86599306e-01],\n",
              "        [ 9.00968868e-01,  4.33883739e-01],\n",
              "        [ 1.59599895e-01,  9.87181783e-01],\n",
              "        [ 1.15959990e+00, -4.87181783e-01],\n",
              "        [-6.23489802e-01,  7.81831482e-01],\n",
              "        [ 6.23489802e-01,  7.81831482e-01],\n",
              "        [ 9.26916757e-01,  3.75267005e-01],\n",
              "        [ 1.28452759e+00, -4.58667853e-01],\n",
              "        [-8.71318704e-01,  4.90717552e-01],\n",
              "        [ 1.57211666e+00, -3.20172255e-01],\n",
              "        [ 9.03976974e-01, -4.95379113e-01],\n",
              "        [ 8.71318704e-01,  4.90717552e-01],\n",
              "        [ 5.18392568e-01,  8.55142763e-01],\n",
              "        [ 3.27051370e-02,  2.46345416e-01],\n",
              "        [ 5.09442530e-02,  1.84891782e-01],\n",
              "        [ 1.09602303e+00, -4.95379113e-01],\n",
              "        [-8.38088105e-01,  5.45534901e-01],\n",
              "        [ 9.81559157e-01,  1.91158629e-01],\n",
              "        [ 8.38088105e-01,  5.45534901e-01],\n",
              "        [ 1.99794539e+00,  4.35929780e-01],\n",
              "        [ 1.98155916e+00,  3.08841371e-01],\n",
              "        [ 2.84527587e-01,  9.58667853e-01],\n",
              "        [ 7.77479066e-01, -4.74927912e-01],\n",
              "        [ 3.27699110e-01, -2.40277997e-01],\n",
              "        [ 9.90311321e-02,  6.61162609e-02],\n",
              "        [ 1.90096887e+00,  6.61162609e-02],\n",
              "        [ 9.49055747e-01,  3.15108218e-01],\n",
              "        [ 1.62348980e+00, -2.81831482e-01],\n",
              "        [ 1.61911895e-01, -4.55349012e-02],\n",
              "        [ 1.67230089e+00, -2.40277997e-01],\n",
              "        [ 5.95216657e-01, -4.14412623e-01],\n",
              "        [-9.26916757e-01,  3.75267005e-01],\n",
              "        [ 1.94905575e+00,  1.84891782e-01],\n",
              "        [ 7.61445958e-01,  6.48228395e-01],\n",
              "        [ 4.04783343e-01,  9.14412623e-01],\n",
              "        [ 9.67294863e-01,  2.53654584e-01],\n",
              "        [ 3.45365054e-01,  9.38468422e-01],\n",
              "        [ 7.18349350e-01,  6.95682551e-01],\n",
              "        [-9.67294863e-01,  2.53654584e-01],\n",
              "        [ 1.83808810e+00, -4.55349012e-02],\n",
              "        [ 2.05460725e-03,  4.35929780e-01],\n",
              "        [ 2.81650650e-01, -1.95682551e-01],\n",
              "        [ 1.98586378e-01, -9.81105305e-02],\n",
              "        [ 7.30832427e-02,  1.24732995e-01],\n",
              "        [ 8.01413622e-01,  5.98110530e-01],\n",
              "        [ 1.51839257e+00, -3.55142763e-01],\n",
              "        [ 1.84408430e-02,  3.08841371e-01],\n",
              "        [ 9.97945393e-01,  6.40702200e-02],\n",
              "        [-2.84527587e-01,  9.58667853e-01],\n",
              "        [-9.00968868e-01,  4.33883739e-01],\n",
              "        [ 6.72300890e-01,  7.40277997e-01],\n",
              "        [-3.20515776e-02,  9.99486216e-01],\n",
              "        [-7.61445958e-01,  6.48228395e-01],\n",
              "        [ 9.67948422e-01, -4.99486216e-01],\n",
              "        [-5.72116660e-01,  8.20172255e-01],\n",
              "        [ 3.76510198e-01, -2.81831482e-01],\n",
              "        [ 1.00000000e+00,  0.00000000e+00],\n",
              "        [ 5.37461710e-01, -3.86599306e-01],\n",
              "        [-1.59599895e-01,  9.87181783e-01],\n",
              "        [ 1.99179001e+00,  3.72122838e-01],\n",
              "        [-7.18349350e-01,  6.95682551e-01],\n",
              "        [ 1.03205158e+00, -4.99486216e-01],\n",
              "        [-5.18392568e-01,  8.55142763e-01],\n",
              "        [ 1.22252093e+00, -4.74927912e-01],\n",
              "        [-3.45365054e-01,  9.38468422e-01],\n",
              "        [ 1.76144596e+00, -1.48228395e-01],\n",
              "        [-1.00000000e+00,  1.22464680e-16],\n",
              "        [-9.81559157e-01,  1.91158629e-01],\n",
              "        [ 1.92691676e+00,  1.24732995e-01],\n",
              "        [ 8.40400105e-01, -4.87181783e-01],\n",
              "        [ 2.00000000e+00,  5.00000000e-01],\n",
              "        [ 1.87131870e+00,  9.28244800e-03],\n",
              "        [-9.97945393e-01,  6.40702200e-02],\n",
              "        [ 1.80141362e+00, -9.81105305e-02],\n",
              "        [ 9.91790014e-01,  1.27877162e-01],\n",
              "        [ 4.62538290e-01,  8.86599306e-01],\n",
              "        [ 3.20515776e-02,  9.99486216e-01],\n",
              "        [ 2.22520934e-01,  9.74927912e-01]]),\n",
              " array([0, 1, 1, 0, 1, 0, 1, 0, 1, 1, 0, 0, 0, 1, 1, 0, 0, 1, 1, 1, 1, 0,\n",
              "        1, 0, 0, 1, 0, 0, 0, 1, 0, 1, 1, 0, 0, 1, 1, 1, 0, 0, 0, 1, 1, 0,\n",
              "        1, 1, 1, 1, 0, 1, 1, 1, 1, 0, 1, 0, 0, 0, 0, 0, 0, 1, 1, 1, 1, 1,\n",
              "        0, 1, 1, 0, 0, 0, 0, 0, 0, 1, 0, 1, 0, 1, 0, 1, 0, 1, 0, 1, 0, 1,\n",
              "        0, 0, 1, 1, 1, 1, 0, 1, 0, 0, 0, 0]))"
            ]
          },
          "metadata": {
            "tags": []
          },
          "execution_count": 15
        }
      ]
    },
    {
      "cell_type": "code",
      "metadata": {
        "id": "Q6BBP1F1fEFR"
      },
      "source": [
        "# create input dataframe\n",
        "\n",
        "inputData = pd.DataFrame(data = data_[0])"
      ],
      "execution_count": 17,
      "outputs": []
    },
    {
      "cell_type": "code",
      "metadata": {
        "id": "N1lTFS5XfEFR",
        "outputId": "eff4a674-7d1d-427a-c1f0-05aa81f8cbd4"
      },
      "source": [
        "inputData.head()"
      ],
      "execution_count": null,
      "outputs": [
        {
          "output_type": "execute_result",
          "data": {
            "text/html": [
              "<div>\n",
              "<style scoped>\n",
              "    .dataframe tbody tr th:only-of-type {\n",
              "        vertical-align: middle;\n",
              "    }\n",
              "\n",
              "    .dataframe tbody tr th {\n",
              "        vertical-align: top;\n",
              "    }\n",
              "\n",
              "    .dataframe thead th {\n",
              "        text-align: right;\n",
              "    }\n",
              "</style>\n",
              "<table border=\"1\" class=\"dataframe\">\n",
              "  <thead>\n",
              "    <tr style=\"text-align: right;\">\n",
              "      <th></th>\n",
              "      <th>0</th>\n",
              "      <th>1</th>\n",
              "    </tr>\n",
              "  </thead>\n",
              "  <tbody>\n",
              "    <tr>\n",
              "      <th>0</th>\n",
              "      <td>-0.345365</td>\n",
              "      <td>0.938468</td>\n",
              "    </tr>\n",
              "    <tr>\n",
              "      <th>1</th>\n",
              "      <td>0.926917</td>\n",
              "      <td>0.375267</td>\n",
              "    </tr>\n",
              "    <tr>\n",
              "      <th>2</th>\n",
              "      <td>0.032705</td>\n",
              "      <td>0.246345</td>\n",
              "    </tr>\n",
              "    <tr>\n",
              "      <th>3</th>\n",
              "      <td>0.715472</td>\n",
              "      <td>-0.458668</td>\n",
              "    </tr>\n",
              "    <tr>\n",
              "      <th>4</th>\n",
              "      <td>-0.032052</td>\n",
              "      <td>0.999486</td>\n",
              "    </tr>\n",
              "  </tbody>\n",
              "</table>\n",
              "</div>"
            ],
            "text/plain": [
              "          0         1\n",
              "0 -0.345365  0.938468\n",
              "1  0.926917  0.375267\n",
              "2  0.032705  0.246345\n",
              "3  0.715472 -0.458668\n",
              "4 -0.032052  0.999486"
            ]
          },
          "metadata": {
            "tags": []
          },
          "execution_count": 5
        }
      ]
    },
    {
      "cell_type": "code",
      "metadata": {
        "id": "N7XX7LwafEFS",
        "outputId": "97b89658-038c-484d-8911-b00766f75ced",
        "colab": {
          "base_uri": "https://localhost:8080/",
          "height": 203
        }
      },
      "source": [
        "# create output dataframe\n",
        "\n",
        "outputData = pd.DataFrame(data = data_[1])\n",
        "outputData.head()"
      ],
      "execution_count": 18,
      "outputs": [
        {
          "output_type": "execute_result",
          "data": {
            "text/html": [
              "<div>\n",
              "<style scoped>\n",
              "    .dataframe tbody tr th:only-of-type {\n",
              "        vertical-align: middle;\n",
              "    }\n",
              "\n",
              "    .dataframe tbody tr th {\n",
              "        vertical-align: top;\n",
              "    }\n",
              "\n",
              "    .dataframe thead th {\n",
              "        text-align: right;\n",
              "    }\n",
              "</style>\n",
              "<table border=\"1\" class=\"dataframe\">\n",
              "  <thead>\n",
              "    <tr style=\"text-align: right;\">\n",
              "      <th></th>\n",
              "      <th>0</th>\n",
              "    </tr>\n",
              "  </thead>\n",
              "  <tbody>\n",
              "    <tr>\n",
              "      <th>0</th>\n",
              "      <td>0</td>\n",
              "    </tr>\n",
              "    <tr>\n",
              "      <th>1</th>\n",
              "      <td>1</td>\n",
              "    </tr>\n",
              "    <tr>\n",
              "      <th>2</th>\n",
              "      <td>1</td>\n",
              "    </tr>\n",
              "    <tr>\n",
              "      <th>3</th>\n",
              "      <td>0</td>\n",
              "    </tr>\n",
              "    <tr>\n",
              "      <th>4</th>\n",
              "      <td>1</td>\n",
              "    </tr>\n",
              "  </tbody>\n",
              "</table>\n",
              "</div>"
            ],
            "text/plain": [
              "   0\n",
              "0  0\n",
              "1  1\n",
              "2  1\n",
              "3  0\n",
              "4  1"
            ]
          },
          "metadata": {
            "tags": []
          },
          "execution_count": 18
        }
      ]
    },
    {
      "cell_type": "code",
      "metadata": {
        "id": "WVUM6tGqfEFT",
        "outputId": "00ed463d-9bd9-432a-b035-22a1beafa0c2",
        "colab": {
          "base_uri": "https://localhost:8080/",
          "height": 282
        }
      },
      "source": [
        "# create a scatter plot for inputData set\n",
        "plt.scatter(inputData[0], inputData[1])\n"
      ],
      "execution_count": 19,
      "outputs": [
        {
          "output_type": "execute_result",
          "data": {
            "text/plain": [
              "<matplotlib.collections.PathCollection at 0x7f9f8d650d90>"
            ]
          },
          "metadata": {
            "tags": []
          },
          "execution_count": 19
        },
        {
          "output_type": "display_data",
          "data": {
            "image/png": "[encoded data removed]",
            "text/plain": [
              "<Figure size 432x288 with 1 Axes>"
            ]
          },
          "metadata": {
            "tags": [],
            "needs_background": "light"
          }
        }
      ]
    },
    {
      "cell_type": "code",
      "metadata": {
        "id": "jYzvyCi6fEFU",
        "outputId": "24b7414a-40be-4b80-c6e0-c5efd6c3ff0e",
        "colab": {
          "base_uri": "https://localhost:8080/",
          "height": 282
        }
      },
      "source": [
        "# create a scatter plot for inputData set with outputData color\n",
        "plt.scatter(inputData[0], inputData[1], c = outputData)\n"
      ],
      "execution_count": 20,
      "outputs": [
        {
          "output_type": "execute_result",
          "data": {
            "text/plain": [
              "<matplotlib.collections.PathCollection at 0x7f9f8d5a6b10>"
            ]
          },
          "metadata": {
            "tags": []
          },
          "execution_count": 20
        },
        {
          "output_type": "display_data",
          "data": {
            "image/png": "[encoded data removed]",
            "text/plain": [
              "<Figure size 432x288 with 1 Axes>"
            ]
          },
          "metadata": {
            "tags": [],
            "needs_background": "light"
          }
        }
      ]
    },
    {
      "cell_type": "code",
      "metadata": {
        "id": "bzYGlyC2fEFU"
      },
      "source": [
        ""
      ],
      "execution_count": null,
      "outputs": []
    },
    {
      "cell_type": "code",
      "metadata": {
        "id": "bDyZMhNjfEFV",
        "outputId": "e6bfae3c-4ff8-4cda-e56d-cacf76029bb5",
        "colab": {
          "base_uri": "https://localhost:8080/"
        }
      },
      "source": [
        "# Call the sklearn Kmeans and make a model with 200 samples\n",
        "model = KMeans(n_clusters=5)\n",
        "model.fit(inputData)\n",
        "#model_fit"
      ],
      "execution_count": 22,
      "outputs": [
        {
          "output_type": "execute_result",
          "data": {
            "text/plain": [
              "KMeans(algorithm='auto', copy_x=True, init='k-means++', max_iter=300,\n",
              "       n_clusters=5, n_init=10, n_jobs=None, precompute_distances='auto',\n",
              "       random_state=None, tol=0.0001, verbose=0)"
            ]
          },
          "metadata": {
            "tags": []
          },
          "execution_count": 22
        }
      ]
    },
    {
      "cell_type": "code",
      "metadata": {
        "id": "Z85T8W2SfEFV",
        "outputId": "76319fe2-7112-41a7-9334-5a3c7cbaaa78",
        "colab": {
          "base_uri": "https://localhost:8080/"
        }
      },
      "source": [
        "# check for labels\n",
        "\n",
        "model.labels_\n"
      ],
      "execution_count": 23,
      "outputs": [
        {
          "output_type": "execute_result",
          "data": {
            "text/plain": [
              "array([2, 0, 4, 3, 0, 2, 4, 2, 0, 1, 3, 3, 2, 4, 4, 2, 2, 0, 4, 1, 0, 2,\n",
              "       4, 3, 3, 4, 2, 3, 3, 4, 2, 1, 4, 3, 3, 0, 0, 4, 2, 4, 3, 1, 1, 3,\n",
              "       4, 0, 0, 1, 4, 1, 0, 1, 4, 2, 1, 3, 3, 4, 3, 3, 2, 1, 0, 0, 0, 0,\n",
              "       3, 1, 0, 4, 2, 2, 3, 3, 2, 4, 2, 0, 4, 4, 3, 1, 2, 4, 2, 4, 2, 1,\n",
              "       2, 2, 1, 4, 1, 1, 2, 1, 4, 3, 3, 3], dtype=int32)"
            ]
          },
          "metadata": {
            "tags": []
          },
          "execution_count": 23
        }
      ]
    },
    {
      "cell_type": "code",
      "metadata": {
        "id": "oVI_yLE7fEFW"
      },
      "source": [
        ""
      ],
      "execution_count": null,
      "outputs": []
    },
    {
      "cell_type": "code",
      "metadata": {
        "id": "XnJFiltFfEFW",
        "outputId": "55207e9d-8bcf-4596-baa4-9e2957c969ad",
        "colab": {
          "base_uri": "https://localhost:8080/"
        }
      },
      "source": [
        "# call metrics and check silhoutte score\n",
        "from sklearn import metrics\n",
        "metrics.silhouette_score(inputData, model.labels_)\n"
      ],
      "execution_count": 25,
      "outputs": [
        {
          "output_type": "execute_result",
          "data": {
            "text/plain": [
              "0.4738528152769611"
            ]
          },
          "metadata": {
            "tags": []
          },
          "execution_count": 25
        }
      ]
    },
    {
      "cell_type": "code",
      "metadata": {
        "id": "xtjKjB-pfEFW",
        "outputId": "d713c9c0-0687-48c5-a8cb-7f82f954bc68",
        "colab": {
          "base_uri": "https://localhost:8080/",
          "height": 282
        }
      },
      "source": [
        "# create a scatter plot for inputData set with model labels color\n",
        "plt.scatter(inputData[0], inputData[1], c = model.labels_)\n"
      ],
      "execution_count": 26,
      "outputs": [
        {
          "output_type": "execute_result",
          "data": {
            "text/plain": [
              "<matplotlib.collections.PathCollection at 0x7f9f9566d8d0>"
            ]
          },
          "metadata": {
            "tags": []
          },
          "execution_count": 26
        },
        {
          "output_type": "display_data",
          "data": {
            "image/png": "[encoded data removed]",
            "text/plain": [
              "<Figure size 432x288 with 1 Axes>"
            ]
          },
          "metadata": {
            "tags": [],
            "needs_background": "light"
          }
        }
      ]
    },
    {
      "cell_type": "markdown",
      "metadata": {
        "id": "8rU2_zQMfEFX"
      },
      "source": [
        "#### finding right number of cluster"
      ]
    },
    {
      "cell_type": "code",
      "metadata": {
        "id": "c7M0kYR3fEFX"
      },
      "source": [
        "cluster_range = range(1, 20)\n",
        "error_list = []\n",
        "\n",
        "for i in cluster_range:\n",
        "    model = KMeans(n_clusters=i)\n",
        "    model.fit(inputData)\n",
        "    res = model.inertia_\n",
        "    error_list.append(res)"
      ],
      "execution_count": 27,
      "outputs": []
    },
    {
      "cell_type": "code",
      "metadata": {
        "id": "aOqLZmFjfEFY",
        "outputId": "5a310b9e-45c1-4c14-c55b-8c95ed5e7aa4",
        "colab": {
          "base_uri": "https://localhost:8080/",
          "height": 295
        }
      },
      "source": [
        "import matplotlib.pyplot as plt\n",
        "\n",
        "plt.plot(cluster_range, error_list, marker = \"o\", color = \"g\", markersize = 10)\n",
        "plt.xlabel(\"Cluster Range\")\n",
        "plt.ylabel(\"IntraCluster Sum\")\n",
        "plt.title(\"KMeans\")\n",
        "plt.show()"
      ],
      "execution_count": 28,
      "outputs": [
        {
          "output_type": "display_data",
          "data": {
            "image/png": "[encoded data removed]",
            "text/plain": [
              "<Figure size 432x288 with 1 Axes>"
            ]
          },
          "metadata": {
            "tags": [],
            "needs_background": "light"
          }
        }
      ]
    },
    {
      "cell_type": "code",
      "metadata": {
        "id": "f1N-SSzdfEFY"
      },
      "source": [
        ""
      ],
      "execution_count": null,
      "outputs": []
    },
    {
      "cell_type": "code",
      "metadata": {
        "id": "8denApuDfEFY"
      },
      "source": [
        ""
      ],
      "execution_count": null,
      "outputs": []
    }
  ]
}